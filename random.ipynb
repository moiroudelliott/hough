{
  "nbformat": 4,
  "nbformat_minor": 0,
  "metadata": {
    "colab": {
      "provenance": [],
      "authorship_tag": "ABX9TyNpfxnvMWawoZ/8sUgfFe7Q",
      "include_colab_link": true
    },
    "kernelspec": {
      "name": "python3",
      "display_name": "Python 3"
    },
    "language_info": {
      "name": "python"
    }
  },
  "cells": [
    {
      "cell_type": "markdown",
      "metadata": {
        "id": "view-in-github",
        "colab_type": "text"
      },
      "source": [
        "<a href=\"https://colab.research.google.com/github/moiroudelliott/hough/blob/main/random.ipynb\" target=\"_parent\"><img src=\"https://colab.research.google.com/assets/colab-badge.svg\" alt=\"Open In Colab\"/></a>"
      ]
    },
    {
      "cell_type": "code",
      "execution_count": 33,
      "metadata": {
        "colab": {
          "base_uri": "https://localhost:8080/",
          "height": 869
        },
        "id": "jBm2VFD4BQIu",
        "outputId": "02f3dd11-8d47-40fa-faa9-f7c00d909edb"
      },
      "outputs": [
        {
          "output_type": "stream",
          "name": "stdout",
          "text": [
            "Drive already mounted at /content/drive; to attempt to forcibly remount, call drive.mount(\"/content/drive\", force_remount=True).\n",
            "Image en entrée :\n"
          ]
        },
        {
          "output_type": "display_data",
          "data": {
            "text/plain": [
              "<PIL.Image.Image image mode=RGB size=400x400 at 0x7F83870DFEB0>"
            ],
            "image/png": "[encoded data removed]"
          },
          "metadata": {}
        },
        {
          "output_type": "stream",
          "name": "stdout",
          "text": [
            "Détection de contours :\n"
          ]
        },
        {
          "output_type": "display_data",
          "data": {
            "text/plain": [
              "<PIL.Image.Image image mode=L size=400x400 at 0x7F8387C1D420>"
            ],
            "image/png": "[encoded data removed]"
          },
          "metadata": {}
        }
      ],
      "source": [
        "# Les modules :\n",
        "\n",
        "from google.colab import drive\n",
        "import sys\n",
        "import math\n",
        "import cv2 as cv\n",
        "import numpy as np\n",
        "import math as m\n",
        "from google.colab.patches import cv2_imshow\n",
        "import random as r\n",
        "\n",
        "# Accès au fichiers du drives :\n",
        "\n",
        "drive.mount('/content/drive')\n",
        "\n",
        "# Importation de l'image :\n",
        "\n",
        "nomFichier = 'test3.png'\n",
        "path='/content/drive/My Drive/python/' + nomFichier\n",
        "img = cv.imread(path)\n",
        "print(\"Image en entrée :\")\n",
        "\n",
        "larg = len(img[0])\n",
        "haut = len(img)\n",
        "\n",
        "coeff = 400/larg\n",
        "\n",
        "img = cv.resize(img, (400, int(haut*coeff)), interpolation = cv.INTER_AREA)\n",
        "\n",
        "cv2_imshow(img)\n",
        "\n",
        "# Je commence par griser l'image :\n",
        "gray=cv.cvtColor(img, cv.COLOR_BGR2GRAY)\n",
        "\n",
        "\n",
        "# Puis j'effectue la détection de contour canny :\n",
        "cannyOr = cv.Canny(gray, 90, 250, None, 3)\n",
        "print(\"Détection de contours :\")\n",
        "cv2_imshow(cannyOr)"
      ]
    },
    {
      "cell_type": "code",
      "source": [
        "canny = np.copy(cannyOr)\n",
        "\n",
        "def detection(dico:dict, seuil:int)->list:\n",
        "\n",
        "  '''...'''\n",
        "\n",
        "  # On crée un tableau de résultats vide pour le moment\n",
        "  res = []\n",
        "\n",
        "  # On tourne dans tout le dico\n",
        "  for co in dico:\n",
        "    # Si le point dépasse le seuil on l'ajoute à notre tableau de résultats\n",
        "    if dico[co] >= seuil:\n",
        "      res.append(co)\n",
        "      dico[co] = -np.inf\n",
        "  return res\n",
        "\n",
        "def can_to_list(img:list)->list:\n",
        "\n",
        "  '''Prend en entrée une détection de contours d'image (canny) en noir et blanc \n",
        "  et renvoie une liste de coordonnées des points qui ne sont pas noirs'''\n",
        "\n",
        "  # Je récupère les dimentions de l'image en question\n",
        "  haut = len(img)\n",
        "  larg = len(img[1])\n",
        "\n",
        "\n",
        "  # Je crée notre liste de coordonnées vide pour le moment\n",
        "  res = []\n",
        "\n",
        "  # Je boucle dans toute l'image avec les variables x et y\n",
        "  for y in range(haut):\n",
        "    for x in range(larg):\n",
        "\n",
        "      # Je regarde si le pixel est clair\n",
        "      if img[y][x] > 0:\n",
        "\n",
        "        # S'il l'est je l'ajoute à la liste\n",
        "        res.append((x, y))\n",
        "\n",
        "  return res\n",
        "\n",
        "def point(canny, dico, pro, img):\n",
        "  haut = len(canny)\n",
        "  larg = len(canny[0])\n",
        "\n",
        "  list_can = can_to_list(canny)\n",
        "\n",
        "  l = len(list_can)\n",
        "  if l > 0:\n",
        "    i1 = r.randint(0, l-1)\n",
        "    i2 = r.randint(0, l-1)\n",
        "    co1 = list_can[i1]\n",
        "    co2 = list_can[i2]\n",
        "  else : return\n",
        "\n",
        "  print(co1, co2)\n",
        "  color = (r.randint(0, 255), r.randint(0, 255), r.randint(0, 255))\n",
        "  cv.circle(img, co1, 6, color, 5)\n",
        "  cv.circle(img, co1, 6, color, 5)\n",
        "\n",
        "  a = (co1[1]-co2[1]) / ((co1[0]-co2[0])+ 0.01)\n",
        "  b = co1[1] - (co1[0] * a)\n",
        "\n",
        "  if (a, b) not in dico:\n",
        "    p = proche(dico, (a, b), pro)\n",
        "    if not p[1]:\n",
        "      dico[(a, b)] = 1\n",
        "    else:\n",
        "      dico[p[0]] += 1\n",
        "  else:\n",
        "    dico[(a, b)] += 1\n",
        "\n",
        "def proche(l1:list, co2:tuple, seuil:int)->tuple:\n",
        "\n",
        "  '''Prend une liste et un point pusi renvoie True et (-1, -1) si il est éloigné de tous les\n",
        "   points False et les coordonnées du points en question sinon'''\n",
        "\n",
        "  # On initialise notre rs à False\n",
        "  res = False\n",
        "  p = (-1, -1)\n",
        "  # On passe dans toute la liste avec la variable co1\n",
        "  for co1 in l1:\n",
        "\n",
        "    # On fait la différence des x et des y\n",
        "    dista = abs(co1[0]-co2[0])/10\n",
        "    distb = abs(co1[1]-co2[1])\n",
        "\n",
        "    # On vérifie si la somme des deux est inférieure à un seuil, si c'est le cas\n",
        "    #On met res à True\n",
        "    if dista + distb < seuil:\n",
        "      res = True\n",
        "      p = co1\n",
        "\n",
        "  return (p, res)\n",
        "\n",
        "def detection_ligne(img, canny, nb, seuil, pro):\n",
        "  trouve = 0\n",
        "  dico = {}\n",
        "  res = []\n",
        "  larg = len(canny[0])\n",
        "  haut = len(canny)\n",
        "  img2 = np.copy(img)\n",
        "  img3 = np.copy(img)\n",
        "  while trouve < nb:\n",
        "    point(canny, dico, pro, img3)\n",
        "    nouv = detection(dico, seuil)\n",
        "    trouve += len(nouv)\n",
        "    #print(dico)\n",
        "    cv2_imshow(canny)\n",
        "    for co in nouv:\n",
        "      co1 = (0, int(co[1]))\n",
        "      co2 = (larg, int(larg*co[0] + co[1]))\n",
        "      res.append([co1, co2])\n",
        "      cv.line(canny, co1, co2, (0, 0, 0), 10)\n",
        "  print(res)\n",
        "  cv2_imshow(img3)\n",
        "  for co in res:\n",
        "    cv.line(img2, co[0], co[1], (0, 0, 255), 4)\n",
        "  return img2\n",
        "\n",
        "img2 = detection_ligne(img, canny, 2, 3, 10)\n",
        "\n",
        "print(\"Taille de l'image : \" + str(len(img2)) + str(len(img[0])))\n",
        "cv2_imshow(img)\n",
        "cv2_imshow(img2)"
      ],
      "metadata": {
        "id": "WbUNjm9YBXUb",
        "colab": {
          "base_uri": "https://localhost:8080/",
          "height": 1000
        },
        "outputId": "b7403c85-58fe-4aa4-c8a5-af253e637f72"
      },
      "execution_count": 34,
      "outputs": [
        {
          "output_type": "stream",
          "name": "stdout",
          "text": [
            "(34, 61) (167, 137)\n"
          ]
        },
        {
          "output_type": "display_data",
          "data": {
            "text/plain": [
              "<PIL.Image.Image image mode=L size=400x400 at 0x7F837D742E90>"
            ],
            "image/png": "[encoded data removed]"
          },
          "metadata": {}
        },
        {
          "output_type": "stream",
          "name": "stdout",
          "text": [
            "(214, 137) (69, 179)\n"
          ]
        },
        {
          "output_type": "display_data",
          "data": {
            "text/plain": [
              "<PIL.Image.Image image mode=L size=400x400 at 0x7F8387C1E020>"
            ],
            "image/png": "[encoded data removed]"
          },
          "metadata": {}
        },
        {
          "output_type": "stream",
          "name": "stdout",
          "text": [
            "(213, 137) (175, 149)\n"
          ]
        },
        {
          "output_type": "display_data",
          "data": {
            "text/plain": [
              "<PIL.Image.Image image mode=L size=400x400 at 0x7F837D743E20>"
            ],
            "image/png": "[encoded data removed]"
          },
          "metadata": {}
        },
        {
          "output_type": "stream",
          "name": "stdout",
          "text": [
            "(30, 191) (308, 217)\n"
          ]
        },
        {
          "output_type": "display_data",
          "data": {
            "text/plain": [
              "<PIL.Image.Image image mode=L size=400x400 at 0x7F837D8A0430>"
            ],
            "image/png": "[encoded data removed]"
          },
          "metadata": {}
        },
        {
          "output_type": "stream",
          "name": "stdout",
          "text": [
            "(141, 122) (173, 149)\n"
          ]
        },
        {
          "output_type": "display_data",
          "data": {
            "text/plain": [
              "<PIL.Image.Image image mode=L size=400x400 at 0x7F83BB025E70>"
            ],
            "image/png": "[encoded data removed]"
          },
          "metadata": {}
        },
        {
          "output_type": "stream",
          "name": "stdout",
          "text": [
            "(362, 251) (120, 113)\n"
          ]
        },
        {
          "output_type": "display_data",
          "data": {
            "text/plain": [
              "<PIL.Image.Image image mode=L size=400x400 at 0x7F8387C1E020>"
            ],
            "image/png": "[encoded data removed]"
          },
          "metadata": {}
        },
        {
          "output_type": "stream",
          "name": "stdout",
          "text": [
            "(335, 233) (200, 155)\n"
          ]
        },
        {
          "output_type": "display_data",
          "data": {
            "text/plain": [
              "<PIL.Image.Image image mode=L size=400x400 at 0x7F837D740EE0>"
            ],
            "image/png": "[encoded data removed]"
          },
          "metadata": {}
        },
        {
          "output_type": "stream",
          "name": "stdout",
          "text": [
            "(227, 133) (258, 125)\n"
          ]
        },
        {
          "output_type": "display_data",
          "data": {
            "text/plain": [
              "<PIL.Image.Image image mode=L size=400x400 at 0x7F837D741810>"
            ],
            "image/png": "[encoded data removed]"
          },
          "metadata": {}
        },
        {
          "output_type": "stream",
          "name": "stdout",
          "text": [
            "(29, 191) (221, 135)\n"
          ]
        },
        {
          "output_type": "display_data",
          "data": {
            "text/plain": [
              "<PIL.Image.Image image mode=L size=400x400 at 0x7F837D742E90>"
            ],
            "image/png": "[encoded data removed]"
          },
          "metadata": {}
        },
        {
          "output_type": "stream",
          "name": "stdout",
          "text": [
            "[[(0, 41), (400, 270)], [(0, 198), (400, 83)]]\n"
          ]
        },
        {
          "output_type": "display_data",
          "data": {
            "text/plain": [
              "<PIL.Image.Image image mode=RGB size=400x400 at 0x7F837D768C70>"
            ],
            "image/png": "[encoded data removed]"
          },
          "metadata": {}
        },
        {
          "output_type": "stream",
          "name": "stdout",
          "text": [
            "Taille de l'image : 400400\n"
          ]
        },
        {
          "output_type": "display_data",
          "data": {
            "text/plain": [
              "<PIL.Image.Image image mode=RGB size=400x400 at 0x7F837D740B20>"
            ],
            "image/png": "[encoded data removed]"
          },
          "metadata": {}
        },
        {
          "output_type": "display_data",
          "data": {
            "text/plain": [
              "<PIL.Image.Image image mode=RGB size=400x400 at 0x7F837D741570>"
            ],
            "image/png": "[encoded data removed]"
          },
          "metadata": {}
        }
      ]
    }
  ]
}